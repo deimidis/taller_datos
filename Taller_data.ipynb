{
 "cells": [
  {
   "cell_type": "markdown",
   "metadata": {},
   "source": [
    "# Estructuras básicas de python\n"
   ]
  },
  {
   "cell_type": "code",
   "execution_count": 15,
   "metadata": {},
   "outputs": [],
   "source": [
    "# listas\n",
    "zeros = [0, 0, 0, 0, 0]\n",
    "unos = [1, 1, 1, 1, 1]\n",
    "zer_uno = [0, 1, 0, 1, \" \"]\n",
    "\n",
    "\n"
   ]
  },
  {
   "cell_type": "code",
   "execution_count": 5,
   "metadata": {},
   "outputs": [
    {
     "data": {
      "text/plain": [
       "{'albúm': 'Durazno Sangrando',\n",
       " 'edad': 62,\n",
       " 'muerte': '8 February 2012 ',\n",
       " 'nacimiento': '23 January 1950',\n",
       " 'nombre': 'Luis Alberto Spinetta',\n",
       " 'profesion': 'músico'}"
      ]
     },
     "execution_count": 5,
     "metadata": {},
     "output_type": "execute_result"
    }
   ],
   "source": [
    "#dict\n",
    "persona = {\n",
    "    'nombre': 'Luis Alberto Spinetta',\n",
    "    'nacimiento': '23 January 1950',\n",
    "    'muerte': '8 February 2012 ',\n",
    "    'edad': 62,\n",
    "    'profesion': 'músico',\n",
    "    'albúm':'Durazno Sangrando'\n",
    "}\n",
    "persona"
   ]
  },
  {
   "cell_type": "code",
   "execution_count": null,
   "metadata": {},
   "outputs": [],
   "source": [
    "#tuplas\n",
    "t1 = ('la', 'luz')\n",
    "t2 = ('se', 'duerme')\n"
   ]
  },
  {
   "cell_type": "markdown",
   "metadata": {},
   "source": [
    "# Ciclos y estructuras de control"
   ]
  },
  {
   "cell_type": "code",
   "execution_count": 6,
   "metadata": {},
   "outputs": [
    {
     "name": "stdout",
     "output_type": "stream",
     "text": [
      "El valor dado es cero: 0\n"
     ]
    }
   ],
   "source": [
    "#if \n",
    "if zeros[0] == 0:\n",
    "    print(\"El valor dado es cero: {}\".format(zeros[0]))\n",
    "    "
   ]
  },
  {
   "cell_type": "code",
   "execution_count": 11,
   "metadata": {},
   "outputs": [
    {
     "name": "stdout",
     "output_type": "stream",
     "text": [
      "profesion: músico\n",
      "nombre: Luis Alberto Spinetta\n",
      "muerte: 8 February 2012 \n",
      "albúm: Durazno Sangrando\n",
      "nacimiento: 23 January 1950\n",
      "edad: 62\n"
     ]
    }
   ],
   "source": [
    "#for \n",
    "for dato, valor in persona.items():\n",
    "    print(\"{}: {}\".format(dato, valor))    "
   ]
  },
  {
   "cell_type": "code",
   "execution_count": 17,
   "metadata": {},
   "outputs": [
    {
     "name": "stdout",
     "output_type": "stream",
     "text": [
      "El valor dado es cero: 0\n",
      "El valor dado es 1: 1\n",
      "El valor dado es cero: 0\n",
      "El valor dado es 1: 1\n",
      "El valor dado no es ni cero ni uno:  \n"
     ]
    }
   ],
   "source": [
    "#if elif else - for \n",
    "for num in zer_uno:\n",
    "    if num == 0:\n",
    "        print(\"El valor dado es cero: {}\".format(num))\n",
    "    elif num == 1:\n",
    "        print(\"El valor dado es 1: {}\".format(num))\n",
    "    else:\n",
    "        print(\"El valor dado no es ni cero ni uno: {}\".format(num))"
   ]
  },
  {
   "cell_type": "code",
   "execution_count": 20,
   "metadata": {},
   "outputs": [
    {
     "data": {
      "text/plain": [
       "'músico'"
      ]
     },
     "execution_count": 20,
     "metadata": {},
     "output_type": "execute_result"
    }
   ],
   "source": [
    "# funciones\n",
    "\n",
    "def func_profesion(persona):\n",
    "    return persona['profesion']\n",
    "\n",
    "func_artista(persona)"
   ]
  },
  {
   "cell_type": "markdown",
   "metadata": {},
   "source": [
    "# numpy"
   ]
  },
  {
   "cell_type": "code",
   "execution_count": 21,
   "metadata": {},
   "outputs": [],
   "source": [
    "# importar la librería numpy como np\n",
    "import numpy as np"
   ]
  },
  {
   "cell_type": "code",
   "execution_count": 39,
   "metadata": {},
   "outputs": [
    {
     "data": {
      "text/plain": [
       "array(['0', '1', '0', '1', ' '], dtype='<U21')"
      ]
     },
     "execution_count": 39,
     "metadata": {},
     "output_type": "execute_result"
    }
   ],
   "source": [
    "#array\n",
    "zeros_np = np.array(zer_uno)\n",
    "zeros_np\n"
   ]
  },
  {
   "cell_type": "code",
   "execution_count": 38,
   "metadata": {},
   "outputs": [
    {
     "data": {
      "text/plain": [
       "(5,)"
      ]
     },
     "execution_count": 38,
     "metadata": {},
     "output_type": "execute_result"
    }
   ],
   "source": [
    "# tamaño\n",
    "zeros_np.shape"
   ]
  },
  {
   "cell_type": "code",
   "execution_count": 24,
   "metadata": {},
   "outputs": [
    {
     "data": {
      "text/plain": [
       "array([0., 0., 0., 0., 0.])"
      ]
     },
     "execution_count": 24,
     "metadata": {},
     "output_type": "execute_result"
    }
   ],
   "source": [
    "#zeros\n",
    "np.zeros(5)"
   ]
  },
  {
   "cell_type": "code",
   "execution_count": 35,
   "metadata": {},
   "outputs": [
    {
     "data": {
      "text/plain": [
       "array([0.625, 0.   , 0.   , 0.625, 1.25 ])"
      ]
     },
     "execution_count": 35,
     "metadata": {},
     "output_type": "execute_result"
    }
   ],
   "source": [
    "#números seudo aleatorios de la libería np, modulo random, función randint\n",
    "2.5 * (np.random.randint(5, size=(5,)) - 1) / 4."
   ]
  },
  {
   "cell_type": "code",
   "execution_count": 36,
   "metadata": {},
   "outputs": [
    {
     "data": {
      "text/plain": [
       "array([[ 6.30134836,  3.35300683,  1.12557006,  6.32945979],\n",
       "       [ 3.74163612,  2.82874308,  2.12035139, -1.16471942]])"
      ]
     },
     "execution_count": 36,
     "metadata": {},
     "output_type": "execute_result"
    }
   ],
   "source": [
    "# números aleatorios de la dist normal\n",
    "2.5 * np.random.randn(2, 4) + 3"
   ]
  },
  {
   "cell_type": "markdown",
   "metadata": {},
   "source": [
    "# pandas "
   ]
  },
  {
   "cell_type": "code",
   "execution_count": null,
   "metadata": {},
   "outputs": [],
   "source": []
  }
 ],
 "metadata": {
  "kernelspec": {
   "display_name": "Python 3",
   "language": "python",
   "name": "python3"
  },
  "language_info": {
   "codemirror_mode": {
    "name": "ipython",
    "version": 3
   },
   "file_extension": ".py",
   "mimetype": "text/x-python",
   "name": "python",
   "nbconvert_exporter": "python",
   "pygments_lexer": "ipython3",
   "version": "3.5.3"
  }
 },
 "nbformat": 4,
 "nbformat_minor": 2
}
