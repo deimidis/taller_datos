{
 "cells": [
  {
   "cell_type": "markdown",
   "metadata": {},
   "source": [
    "\n",
    "<img src=\"https://i0.wp.com/illuminatiwatcher.com/wp-content/uploads/2014/11/IlluminatiWatcherDotCom-Clockwork-Orange-Alex-All-Seeing-Eye-Snake.jpg\" width=\"400\"  height=\"400\" />\n",
    "\n",
    "\n",
    "\n",
    "\n",
    "\n",
    "\n"
   ]
  },
  {
   "cell_type": "markdown",
   "metadata": {},
   "source": [
    "\n",
    "# Taller de datos\n",
    "\n",
    "Taller introductorio al análisis de datos con python. El grupo es abierto y se presentan tópicos los cuales se van abordando al ritmo y profundidad de las asistentes. Una propuesta es que avanzando en el taller se propongan proyectos a desarrollar.\n",
    "\n",
    "## Información general\n",
    "\n",
    "Para mayor información de instalación, materiales y requisitos mirar el [README](https://github.com/vladimirAvilaProsser/taller_datos) del repo. \n",
    "\n",
    "## Sesiones \n",
    "\n",
    "- [Primera sesión (17/03)](#Primera-sesión)\n",
    "- [Segunda sesión (24/03)](#Segunda-sesión)\n",
    "\n",
    "\n"
   ]
  },
  {
   "cell_type": "markdown",
   "metadata": {},
   "source": [
    "## Primera sesión\n",
    "\n",
    "**Objetivos:** \n",
    "\n",
    "- Instalar jupiter\n",
    "- Revisar estructuras básicas en python: listas, tuplas, diccionarios.\n",
    "- Fechas y formatos.\n",
    "- Estudiar ciclos y estructuras de control\n"
   ]
  },
  {
   "cell_type": "code",
   "execution_count": null,
   "metadata": {},
   "outputs": [],
   "source": [
    "# listas\n",
    "zeros = [0, 0, 0, 0, 0]\n",
    "unos = [1, 1, 1, 1, 1]\n",
    "zer_uno = [0, 1, 0, 1, \" \"]\n",
    "numeros = [2, 4, 5, 7, 8, 9, 9]"
   ]
  },
  {
   "cell_type": "code",
   "execution_count": null,
   "metadata": {},
   "outputs": [],
   "source": [
    "zeros = [0, 0, 0, 0, 0]\n",
    "zeros"
   ]
  },
  {
   "cell_type": "code",
   "execution_count": null,
   "metadata": {},
   "outputs": [],
   "source": [
    "unos = [1, 1, 1, 1, 1]"
   ]
  },
  {
   "cell_type": "code",
   "execution_count": null,
   "metadata": {},
   "outputs": [],
   "source": [
    "# entrega la primera pos en la lista\n",
    "numeros.index(4)\n",
    "numeros.index(9)\n",
    "numeros.index(9) #error si el elemento no existe"
   ]
  },
  {
   "cell_type": "markdown",
   "metadata": {},
   "source": [
    "La función **index** entrega la posición del elemento que se le pasa"
   ]
  },
  {
   "cell_type": "code",
   "execution_count": null,
   "metadata": {},
   "outputs": [],
   "source": [
    "#dict\n",
    "persona = {\n",
    "    'nombre': 'Luis Alberto Spinetta',\n",
    "    'nacimiento': '23-01-1950',\n",
    "    'muerte': '08-02-2012 ',\n",
    "    'edad': 62,\n",
    "    'profesion': 'músico',\n",
    "    'albúm':'Durazno Sangrando'\n",
    "}\n"
   ]
  },
  {
   "cell_type": "code",
   "execution_count": null,
   "metadata": {},
   "outputs": [],
   "source": [
    "#A los diccionarios se puede acceder mediante su clave o valor. En este caso, la clave 'nombre' va a devolver\n",
    "\n",
    "persona['nombre']"
   ]
  },
  {
   "cell_type": "code",
   "execution_count": null,
   "metadata": {},
   "outputs": [],
   "source": [
    "#tuplas\n",
    "t1 = ('la', 'luz')\n",
    "t2 = ('se', 'duerme')\n",
    "t2"
   ]
  },
  {
   "cell_type": "code",
   "execution_count": null,
   "metadata": {},
   "outputs": [],
   "source": [
    "#fechas\n",
    "#import datetime\n",
    "from datetime import datetime\n",
    "hoy = datetime.now()\n",
    "#si tengo un objeto de fecha\n",
    "#año\n",
    "hoy.strftime(\"%Y\")\n",
    "#dia\n",
    "hoy.strftime(\"%d\")\n",
    "#mes\n",
    "hoy.strftime(\"%m\")\n",
    "\n",
    "hoy.strftime(\"%Y/%m-%d\")\n",
    "\n",
    "#si tengo un string de fecha\n",
    "datetime.strptime(persona['nacimiento'],\"%d-%m-%Y\")\n",
    "\n",
    "\n"
   ]
  },
  {
   "cell_type": "markdown",
   "metadata": {},
   "source": [
    "# Ciclos y estructuras de control"
   ]
  },
  {
   "cell_type": "code",
   "execution_count": null,
   "metadata": {},
   "outputs": [],
   "source": [
    "#if \n",
    "if zeros[0] == 0:\n",
    "    print(\"El valor dado es cero: {}\".format(zeros[0]))\n",
    "    "
   ]
  },
  {
   "cell_type": "code",
   "execution_count": null,
   "metadata": {},
   "outputs": [],
   "source": [
    "#for \n",
    "for dato, valor in persona.items():\n",
    "    print(\"{}: {}\".format(dato, valor))    "
   ]
  },
  {
   "cell_type": "code",
   "execution_count": null,
   "metadata": {},
   "outputs": [],
   "source": [
    "#for y listas \n",
    "numeros = [x for x in range(10)]"
   ]
  },
  {
   "cell_type": "code",
   "execution_count": null,
   "metadata": {},
   "outputs": [],
   "source": [
    "#for, if y listas \n",
    "numeros = [x for x in range(10) if x >3]"
   ]
  },
  {
   "cell_type": "code",
   "execution_count": null,
   "metadata": {},
   "outputs": [],
   "source": [
    "#if elif else - for \n",
    "for num in zer_uno:\n",
    "    if num == 0:\n",
    "        print(\"El valor dado es cero: {}\".format(num))\n",
    "    elif num == 1:\n",
    "        print(\"El valor dado es 1: {}\".format(num))\n",
    "    else:\n",
    "        print(\"El valor dado no es ni cero ni uno: {}\".format(num))"
   ]
  },
  {
   "cell_type": "markdown",
   "metadata": {},
   "source": [
    "# Segunda sesión"
   ]
  },
  {
   "cell_type": "markdown",
   "metadata": {},
   "source": [
    "**Objetivos:** \n",
    "\n",
    "- Entender el concpto de función.\n",
    "- Elaborar una función que toma parámetros.\n",
    "- Elaborar una función que retorne parametros.\n",
    "- Paquetes y módulos\n",
    "- Introducción a numpy"
   ]
  },
  {
   "cell_type": "markdown",
   "metadata": {},
   "source": [
    "## - Funciones\n",
    "\n",
    "En el contexto de programación, una función es un conjunto de instrucciones que se ejecutan al momento de llamar a la función. En python definimos una función\n",
    "\n",
    "```\n",
    "def nombre_funcion(argumentos):\n",
    "    ...instrucciones..\n",
    "    \n",
    "    return\n",
    "```\n"
   ]
  },
  {
   "cell_type": "code",
   "execution_count": 1,
   "metadata": {},
   "outputs": [],
   "source": [
    "#dict\n",
    "persona = {\n",
    "    'nombre': 'Luis Alberto Spinetta',\n",
    "    'nacimiento': '23-01-1950',\n",
    "    'muerte': '08-02-2012 ',\n",
    "    'edad': 62,\n",
    "    'profesion': 'músico',\n",
    "    'albúm':'Durazno Sangrando'\n",
    "}"
   ]
  },
  {
   "cell_type": "code",
   "execution_count": 5,
   "metadata": {},
   "outputs": [
    {
     "data": {
      "text/plain": [
       "'La persona se llama Luis Alberto Spinetta'"
      ]
     },
     "execution_count": 5,
     "metadata": {},
     "output_type": "execute_result"
    }
   ],
   "source": [
    "# funciones\n",
    "\n",
    "def func_profesion(persona):\n",
    "    frase = \"La persona se llama:\" + \" \" +  persona['nombre']\n",
    "    return frase\n",
    "\n",
    "func_profesion(persona)"
   ]
  },
  {
   "cell_type": "markdown",
   "metadata": {},
   "source": [
    "### Funciones matemáticas\n",
    "\n",
    "Las funciones matemáticas se pueden encontrar en el paquete **math**."
   ]
  },
  {
   "cell_type": "code",
   "execution_count": 18,
   "metadata": {},
   "outputs": [],
   "source": [
    "import math as mt"
   ]
  },
  {
   "cell_type": "code",
   "execution_count": null,
   "metadata": {},
   "outputs": [],
   "source": [
    "mt.sin(0) \n",
    "mt.cos(0)\n",
    "mt.sqrt(4)"
   ]
  },
  {
   "cell_type": "markdown",
   "metadata": {},
   "source": [
    "**Ejemplo:**\n",
    "\n",
    "La [secuencia de fibonacci](https://en.wikipedia.org/wiki/Fibonacci_number), es aquella que cada elemento es la suma de los dos predecesores:\n",
    "```\n",
    "F_0 = 0\n",
    "F_1 = 1\n",
    "F_n = F_n-1 + F_n-2\n",
    "```\n",
    "\n",
    "<img src=\"https://images.duckduckgo.com/iu/?u=http%3A%2F%2Fwww.netpicks.com%2Fwp-content%2Fuploads%2F2015%2F12%2FHow-I-use-Fibonacci-Retracements-Nautilus-Shell.jpg&f=1\" width=\"400\" height=\"400\" />"
   ]
  },
  {
   "cell_type": "code",
   "execution_count": 37,
   "metadata": {},
   "outputs": [
    {
     "data": {
      "text/plain": [
       "[0, 1, 1, 2, 3, 5, 8, 13, 21, 34]"
      ]
     },
     "execution_count": 37,
     "metadata": {},
     "output_type": "execute_result"
    }
   ],
   "source": [
    "def fibonacci(num):\n",
    "    if num == 0:\n",
    "        val = 0\n",
    "    elif num == 1:\n",
    "        val = 1\n",
    "    else:\n",
    "        val = fibonacci(num-1) + fibonacci(num-2)\n",
    "    return val\n",
    "\n",
    "\n",
    "num_fibonacci = [ fibonacci(n) for n in range(10)]\n",
    "num_fibonacci"
   ]
  },
  {
   "cell_type": "markdown",
   "metadata": {},
   "source": [
    "qué tipo de función es la anterior (?)"
   ]
  },
  {
   "cell_type": "markdown",
   "metadata": {},
   "source": [
    "## - Paquetes y modulos :\n",
    "\n",
    "- Modulos: Es un archivo .py que contiene instrucciones y definiciones\n",
    "- Paquetes: Una forma de estructurar los modulos en python\n",
    "- librería: un término genérico para referirse a un modulo o paquete\n",
    "\n",
    "\n",
    "\n",
    "### Paquete: [numpy](http://www.numpy.org/)\n",
    "\n",
    "El principal objeto en python es un homogeneo multidimensional arreglo.\n",
    "\n",
    "```\n",
    "[[1, 2, 3],\n",
    "[4, 5, 6]]\n",
    "\n",
    "```\n",
    "\n"
   ]
  },
  {
   "cell_type": "code",
   "execution_count": 40,
   "metadata": {},
   "outputs": [],
   "source": [
    "# importar la librería numpy como np\n",
    "import numpy as np"
   ]
  },
  {
   "cell_type": "code",
   "execution_count": 46,
   "metadata": {},
   "outputs": [
    {
     "data": {
      "text/plain": [
       "array([ 0,  1,  2,  3,  4,  5,  6,  7,  8,  9, 10, 11, 12, 13, 14, 15, 16,\n",
       "       17, 18, 19, 20, 21, 22, 23])"
      ]
     },
     "execution_count": 46,
     "metadata": {},
     "output_type": "execute_result"
    }
   ],
   "source": [
    "np.arange(24)\n"
   ]
  },
  {
   "cell_type": "code",
   "execution_count": 47,
   "metadata": {},
   "outputs": [],
   "source": [
    "a = np.arange(24).reshape(4, 6)"
   ]
  },
  {
   "cell_type": "code",
   "execution_count": 48,
   "metadata": {},
   "outputs": [
    {
     "data": {
      "text/plain": [
       "(4, 6)"
      ]
     },
     "execution_count": 48,
     "metadata": {},
     "output_type": "execute_result"
    }
   ],
   "source": [
    "a.shape"
   ]
  },
  {
   "cell_type": "code",
   "execution_count": 49,
   "metadata": {},
   "outputs": [
    {
     "data": {
      "text/plain": [
       "numpy.ndarray"
      ]
     },
     "execution_count": 49,
     "metadata": {},
     "output_type": "execute_result"
    }
   ],
   "source": [
    "type(a)"
   ]
  },
  {
   "cell_type": "code",
   "execution_count": 51,
   "metadata": {},
   "outputs": [],
   "source": [
    "b = np.array([1.2, 3.5, 5.1])"
   ]
  },
  {
   "cell_type": "code",
   "execution_count": null,
   "metadata": {},
   "outputs": [],
   "source": [
    "#zeros\n",
    "np.zeros(5)"
   ]
  },
  {
   "cell_type": "code",
   "execution_count": null,
   "metadata": {},
   "outputs": [],
   "source": [
    "#números seudo aleatorios de la libería np, modulo random, función randint\n",
    "2.5 * (np.random.randint(5, size=(5,)) - 1) / 4."
   ]
  },
  {
   "cell_type": "code",
   "execution_count": null,
   "metadata": {},
   "outputs": [],
   "source": [
    "# números aleatorios de la dist normal\n",
    "numeros = np.random.randn(2, 4)\n",
    "numeros.shape"
   ]
  },
  {
   "cell_type": "code",
   "execution_count": 54,
   "metadata": {},
   "outputs": [
    {
     "data": {
      "text/plain": [
       "1.0"
      ]
     },
     "execution_count": 54,
     "metadata": {},
     "output_type": "execute_result"
    }
   ],
   "source": [
    "np.cos(0) + np.sin(0)"
   ]
  },
  {
   "cell_type": "markdown",
   "metadata": {},
   "source": [
    "### Paquete [pandas]()"
   ]
  },
  {
   "cell_type": "code",
   "execution_count": null,
   "metadata": {},
   "outputs": [],
   "source": [
    "import pandas as pd"
   ]
  },
  {
   "cell_type": "markdown",
   "metadata": {},
   "source": [
    "### Series"
   ]
  },
  {
   "cell_type": "code",
   "execution_count": null,
   "metadata": {},
   "outputs": [],
   "source": [
    "#Series\n",
    "#generamos un array de (1, 10)\n",
    "data = np.random.randn(5) + 3\n",
    "pd.Series(data)\n",
    "\n",
    "letras = ['a', 'b', 'c', 'd', 'e']\n",
    "pd.Series(data, index=letras)\n"
   ]
  },
  {
   "cell_type": "code",
   "execution_count": null,
   "metadata": {},
   "outputs": [],
   "source": [
    "#librería string\n",
    "import string\n",
    "\n",
    "letras = string.ascii_letters\n",
    "\n",
    "data = data = np.random.randn(20)\n",
    "\n",
    "S = pd.Series(data, index=letras[:20]); S #error ¿?"
   ]
  },
  {
   "cell_type": "code",
   "execution_count": null,
   "metadata": {},
   "outputs": [],
   "source": [
    "#slicing\n",
    "\n",
    "S[:2] + 2\n",
    "\n",
    "S.iloc[0:3]\n",
    "\n",
    "#filtrar de la d a hasta la k\n",
    "\n",
    "start = letras.index('d')\n",
    "end = letras.index('k')\n",
    "S.iloc[start:end] # y la k ??"
   ]
  },
  {
   "cell_type": "code",
   "execution_count": null,
   "metadata": {},
   "outputs": [],
   "source": [
    "letras_series = pd.Series(list(letras))\n",
    "letras_sample = letras_series.sample(15, replace=True)\n",
    "letras_sample.value_counts()"
   ]
  },
  {
   "cell_type": "code",
   "execution_count": null,
   "metadata": {},
   "outputs": [],
   "source": [
    "letras_sample.sort_index()"
   ]
  },
  {
   "cell_type": "code",
   "execution_count": null,
   "metadata": {},
   "outputs": [],
   "source": [
    "# < 0\n",
    "S[S<0]\n",
    "\n",
    "S[S> S.mean()]\n",
    "S[S> S.median()]\n",
    "\n",
    "#sort \n",
    "S.sort_values()"
   ]
  },
  {
   "cell_type": "markdown",
   "metadata": {},
   "source": [
    "### Dataframe"
   ]
  },
  {
   "cell_type": "code",
   "execution_count": null,
   "metadata": {},
   "outputs": [],
   "source": [
    "#series y diccionarios\n",
    "pd.Series(persona)\n",
    "\n",
    "l_num = {\n",
    "    'a':1,\n",
    "    'b':2,\n",
    "    'c':-1\n",
    "}\n",
    "\n",
    "pd.Series(l_num)"
   ]
  },
  {
   "cell_type": "code",
   "execution_count": null,
   "metadata": {},
   "outputs": [],
   "source": [
    "pd.Series(l_num, index=list(letras[:10])) #??"
   ]
  },
  {
   "cell_type": "code",
   "execution_count": null,
   "metadata": {},
   "outputs": [],
   "source": [
    "#filtrando Nan\n",
    "pd.Series(l_num, index=list(letras[:10])).dropna()"
   ]
  },
  {
   "cell_type": "code",
   "execution_count": null,
   "metadata": {},
   "outputs": [],
   "source": [
    "#Dataframe, ejemplo de la documentacion\n",
    "\n",
    "d = {'one' : pd.Series([1., 2., 3.], index=['a', 'b', 'c']),\n",
    "'two' : pd.Series([1., 2., 3., 4.], index=['a', 'b', 'c', 'd'])}"
   ]
  },
  {
   "cell_type": "code",
   "execution_count": null,
   "metadata": {},
   "outputs": [],
   "source": [
    "pd.DataFrame(d)"
   ]
  },
  {
   "cell_type": "markdown",
   "metadata": {},
   "source": [
    "# - Gráficos\n",
    "\n",
    "\n",
    "[revisar](https://docs.scipy.org/doc/numpy/user/quickstart.html#indexing-with-boolean-arrays)"
   ]
  },
  {
   "cell_type": "code",
   "execution_count": null,
   "metadata": {},
   "outputs": [],
   "source": []
  }
 ],
 "metadata": {
  "kernelspec": {
   "display_name": "Python 3",
   "language": "python",
   "name": "python3"
  },
  "language_info": {
   "codemirror_mode": {
    "name": "ipython",
    "version": 3
   },
   "file_extension": ".py",
   "mimetype": "text/x-python",
   "name": "python",
   "nbconvert_exporter": "python",
   "pygments_lexer": "ipython3",
   "version": "3.5.3"
  }
 },
 "nbformat": 4,
 "nbformat_minor": 2
}
