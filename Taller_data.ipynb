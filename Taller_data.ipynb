{
 "cells": [
  {
   "cell_type": "markdown",
   "metadata": {},
   "source": [
    "\n",
    "# Ipython permite markdown\n",
    "<p> Por lo que se pude escribir sobre las cosas que vamos haciendo </p>\n",
    "**importante**\n",
    "\n"
   ]
  },
  {
   "cell_type": "code",
   "execution_count": null,
   "metadata": {},
   "outputs": [],
   "source": [
    "# Estructuras básicas de python"
   ]
  },
  {
   "cell_type": "code",
   "execution_count": null,
   "metadata": {},
   "outputs": [],
   "source": [
    "# listas\n",
    "zeros = [0, 0, 0, 0, 0]\n",
    "unos = [1, 1, 1, 1, 1]\n",
    "zer_uno = [0, 1, 0, 1, \" \"]\n",
    "numeros = [2, 4, 5, 7, 8, 9, 9]"
   ]
  },
  {
   "cell_type": "code",
   "execution_count": null,
   "metadata": {},
   "outputs": [],
   "source": [
    "# entrega la primera pos en la lista\n",
    "numeros.index(4)\n",
    "numeros.index(9)\n",
    "numeros.index(1) #error"
   ]
  },
  {
   "cell_type": "code",
   "execution_count": null,
   "metadata": {},
   "outputs": [],
   "source": [
    "#dict\n",
    "persona = {\n",
    "    'nombre': 'Luis Alberto Spinetta',\n",
    "    'nacimiento': '23-01-1950',\n",
    "    'muerte': '08-02-2012 ',\n",
    "    'edad': 62,\n",
    "    'profesion': 'músico',\n",
    "    'albúm':'Durazno Sangrando'\n",
    "}\n"
   ]
  },
  {
   "cell_type": "code",
   "execution_count": null,
   "metadata": {},
   "outputs": [],
   "source": [
    "#fechas\n",
    "#import datetime\n",
    "from datetime import datetime\n",
    "hoy = datetime.now()\n",
    "#si tengo un objeto de fecha\n",
    "#año\n",
    "hoy.strftime(\"%Y\")\n",
    "#dia\n",
    "hoy.strftime(\"%d\")\n",
    "#mes\n",
    "hoy.strftime(\"%m\")\n",
    "\n",
    "hoy.strftime(\"%Y/%m-%d\")\n",
    "\n",
    "#si tengo un string de fecha\n",
    "datetime.strptime(persona['nacimiento'],\"%d-%m-%Y\")\n",
    "\n",
    "\n"
   ]
  },
  {
   "cell_type": "code",
   "execution_count": null,
   "metadata": {},
   "outputs": [],
   "source": [
    "#tuple \n",
    "t1 = ('la', 'luz')\n",
    "t2 = ('se', 'duerme')\n"
   ]
  },
  {
   "cell_type": "markdown",
   "metadata": {},
   "source": [
    "# Ciclos y estructuras de control"
   ]
  },
  {
   "cell_type": "code",
   "execution_count": null,
   "metadata": {},
   "outputs": [],
   "source": [
    "#if \n",
    "if zeros[0] == 0:\n",
    "    print(\"El valor dado es cero: {}\".format(zeros[0]))\n",
    "    "
   ]
  },
  {
   "cell_type": "code",
   "execution_count": null,
   "metadata": {},
   "outputs": [],
   "source": [
    "#for \n",
    "for dato, valor in persona.items():\n",
    "    print(\"{}: {}\".format(dato, valor))    "
   ]
  },
  {
   "cell_type": "code",
   "execution_count": null,
   "metadata": {},
   "outputs": [],
   "source": [
    "#for y listas \n",
    "numeros = [x for x in range(10)]"
   ]
  },
  {
   "cell_type": "code",
   "execution_count": null,
   "metadata": {},
   "outputs": [],
   "source": [
    "#for, if y listas \n",
    "numeros = [x for x in range(10) if x >3]"
   ]
  },
  {
   "cell_type": "code",
   "execution_count": null,
   "metadata": {},
   "outputs": [],
   "source": [
    "#if elif else - for \n",
    "for num in zer_uno:\n",
    "    if num == 0:\n",
    "        print(\"El valor dado es cero: {}\".format(num))\n",
    "    elif num == 1:\n",
    "        print(\"El valor dado es 1: {}\".format(num))\n",
    "    else:\n",
    "        print(\"El valor dado no es ni cero ni uno: {}\".format(num))"
   ]
  },
  {
   "cell_type": "code",
   "execution_count": null,
   "metadata": {},
   "outputs": [],
   "source": [
    "# funciones\n",
    "\n",
    "def func_profesion(persona):\n",
    "    return persona['profesion']\n",
    "\n",
    "func_profesion(persona)"
   ]
  },
  {
   "cell_type": "markdown",
   "metadata": {},
   "source": [
    "# numpy"
   ]
  },
  {
   "cell_type": "code",
   "execution_count": null,
   "metadata": {},
   "outputs": [],
   "source": [
    "# importar la librería numpy como np\n",
    "import numpy as np"
   ]
  },
  {
   "cell_type": "code",
   "execution_count": null,
   "metadata": {},
   "outputs": [],
   "source": [
    "#array\n",
    "zeros_np = np.array(zer_uno)\n",
    "zeros_np\n"
   ]
  },
  {
   "cell_type": "code",
   "execution_count": null,
   "metadata": {},
   "outputs": [],
   "source": [
    "# tamaño\n",
    "zeros_np.shape"
   ]
  },
  {
   "cell_type": "code",
   "execution_count": null,
   "metadata": {},
   "outputs": [],
   "source": [
    "#zeros\n",
    "np.zeros(5)"
   ]
  },
  {
   "cell_type": "code",
   "execution_count": null,
   "metadata": {},
   "outputs": [],
   "source": [
    "#números seudo aleatorios de la libería np, modulo random, función randint\n",
    "2.5 * (np.random.randint(5, size=(5,)) - 1) / 4."
   ]
  },
  {
   "cell_type": "code",
   "execution_count": null,
   "metadata": {},
   "outputs": [],
   "source": [
    "# números aleatorios de la dist normal\n",
    "numeros = np.random.randn(2, 4)\n",
    "numeros.shape"
   ]
  },
  {
   "cell_type": "markdown",
   "metadata": {},
   "source": [
    "# pandas "
   ]
  },
  {
   "cell_type": "code",
   "execution_count": null,
   "metadata": {},
   "outputs": [],
   "source": [
    "import pandas as pd"
   ]
  },
  {
   "cell_type": "markdown",
   "metadata": {},
   "source": [
    "# Series"
   ]
  },
  {
   "cell_type": "code",
   "execution_count": null,
   "metadata": {},
   "outputs": [],
   "source": [
    "#Series\n",
    "#generamos un array de (1, 10)\n",
    "data = np.random.randn(5) + 3\n",
    "pd.Series(data)\n",
    "\n",
    "letras = ['a', 'b', 'c', 'd', 'e']\n",
    "pd.Series(data, index=letras)\n"
   ]
  },
  {
   "cell_type": "code",
   "execution_count": null,
   "metadata": {},
   "outputs": [],
   "source": [
    "#librería string\n",
    "import string\n",
    "letras = string.ascii_letters\n",
    "\n",
    "data = data = np.random.randn(20)\n",
    "\n",
    "S = pd.Series(data, index=letras[:20]); S #error ¿?"
   ]
  },
  {
   "cell_type": "code",
   "execution_count": null,
   "metadata": {},
   "outputs": [],
   "source": [
    "#slicing\n",
    "\n",
    "S[:2] + 2\n",
    "\n",
    "S.iloc[0:3]\n",
    "\n",
    "#filtrar de la d a hasta la k\n",
    "\n",
    "start = letras.index('d')\n",
    "end = letras.index('k')\n",
    "S.iloc[start:end] # y la k ??"
   ]
  },
  {
   "cell_type": "code",
   "execution_count": null,
   "metadata": {},
   "outputs": [],
   "source": [
    "letras_series = pd.Series(list(letras))\n",
    "letras_sample = letras_series.sample(15, replace=True)\n",
    "letras_sample.value_counts()"
   ]
  },
  {
   "cell_type": "code",
   "execution_count": null,
   "metadata": {},
   "outputs": [],
   "source": [
    "letras_sample.sort_index()"
   ]
  },
  {
   "cell_type": "code",
   "execution_count": null,
   "metadata": {},
   "outputs": [],
   "source": [
    "# < 0\n",
    "S[S<0]\n",
    "\n",
    "S[S> S.mean()]\n",
    "S[S> S.median()]\n",
    "\n",
    "#sort \n",
    "S.sort_values()"
   ]
  },
  {
   "cell_type": "markdown",
   "metadata": {},
   "source": [
    "# Dataframe"
   ]
  },
  {
   "cell_type": "code",
   "execution_count": null,
   "metadata": {},
   "outputs": [],
   "source": [
    "#series y diccionarios\n",
    "pd.Series(persona)\n",
    "\n",
    "l_num = {\n",
    "    'a':1,\n",
    "    'b':2,\n",
    "    'c':-1\n",
    "}\n",
    "\n",
    "pd.Series(l_num)"
   ]
  },
  {
   "cell_type": "code",
   "execution_count": null,
   "metadata": {},
   "outputs": [],
   "source": [
    "pd.Series(l_num, index=list(letras[:10])) #??"
   ]
  },
  {
   "cell_type": "code",
   "execution_count": null,
   "metadata": {},
   "outputs": [],
   "source": [
    "#filtrando Nan\n",
    "pd.Series(l_num, index=list(letras[:10])).dropna()"
   ]
  },
  {
   "cell_type": "code",
   "execution_count": null,
   "metadata": {},
   "outputs": [],
   "source": [
    "#Dataframe, ejemplo de la documentacion\n",
    "\n",
    "d = {'one' : pd.Series([1., 2., 3.], index=['a', 'b', 'c']),\n",
    "'two' : pd.Series([1., 2., 3., 4.], index=['a', 'b', 'c', 'd'])}"
   ]
  },
  {
   "cell_type": "code",
   "execution_count": null,
   "metadata": {},
   "outputs": [],
   "source": [
    "pd.DataFrame(d)"
   ]
  },
  {
   "cell_type": "code",
   "execution_count": null,
   "metadata": {},
   "outputs": [],
   "source": []
  }
 ],
 "metadata": {
  "kernelspec": {
   "display_name": "Python 3",
   "language": "python",
   "name": "python3"
  },
  "language_info": {
   "codemirror_mode": {
    "name": "ipython",
    "version": 3
   },
   "file_extension": ".py",
   "mimetype": "text/x-python",
   "name": "python",
   "nbconvert_exporter": "python",
   "pygments_lexer": "ipython3",
   "version": "3.5.3"
  }
 },
 "nbformat": 4,
 "nbformat_minor": 2
}
